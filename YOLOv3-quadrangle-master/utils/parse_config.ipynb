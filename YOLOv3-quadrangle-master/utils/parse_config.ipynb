{
  "cells": [
    {
      "cell_type": "code",
      "metadata": {},
      "source": [
        "def parse_data_config(path):\n",
        "\t\"\"\"Parses the data configuration file\"\"\"\n",
        "\toptions = dict()\n",
        "\toptions['gpus'] = '0,1,2,3'\n",
        "\toptions['num_workers'] = '10'\n",
        "\twith open(path, 'r') as fp:\n",
        "\t\tlines = fp.readlines()\n",
        "\tfor line in lines:\n",
        "\t\tline = line.strip()\n",
        "\t\tif line == '' or line.startswith('#'):\n",
        "\t\t\tcontinue\n",
        "\t\tkey, value = line.split('=')\n",
        "\t\toptions[key.strip()] = value.strip()\n",
        "\treturn options\n",
        "\n",
        "def parse_model_config(path):\n",
        "\t\"\"\"Parses the yolo-v3 layer configuration file and returns module definitions\"\"\"\n",
        "\tfile = open(path, 'r')\n",
        "\tlines = file.read().split('\\n')\n",
        "\tlines = [x for x in lines if x and not x.startswith('#')]\n",
        "\tlines = [x.rstrip().lstrip() for x in lines] # get rid of fringe whitespaces\n",
        "\tmodule_defs = []\n",
        "\tfor line in lines:\n",
        "\t\tif line.startswith('['): # This marks the start of a new block\n",
        "\t\t\tmodule_defs.append({})\n",
        "\t\t\tmodule_defs[-1]['type'] = line[1:-1].rstrip()\n",
        "\t\t\tif module_defs[-1]['type'] == 'convolutional':\n",
        "\t\t\t\tmodule_defs[-1]['batch_normalize'] = 0\n",
        "\t\telse:\n",
        "\t\t\tkey, value = line.split(\"=\")\n",
        "\t\t\tvalue = value.strip()\n",
        "\t\t\tmodule_defs[-1][key.rstrip()] = value.strip()\n",
        "\n",
        "\treturn module_defs"
      ],
      "outputs": [],
      "execution_count": null
    }
  ],
  "metadata": {
    "anaconda-cloud": {},
    "kernelspec": {
      "display_name": "Python 3",
      "language": "python",
      "name": "python3"
    },
    "language_info": {
      "codemirror_mode": {
        "name": "ipython",
        "version": 3
      },
      "file_extension": ".py",
      "mimetype": "text/x-python",
      "name": "python",
      "nbconvert_exporter": "python",
      "pygments_lexer": "ipython3",
      "version": "3.6.1"
    }
  },
  "nbformat": 4,
  "nbformat_minor": 1
}